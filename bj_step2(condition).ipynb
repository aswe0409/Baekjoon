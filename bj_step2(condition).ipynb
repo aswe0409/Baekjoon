{
 "cells": [
  {
   "cell_type": "markdown",
   "id": "a5d67166",
   "metadata": {},
   "source": [
    "# 백준 단계별로 문제풀기 step2"
   ]
  },
  {
   "cell_type": "code",
   "execution_count": 13,
   "id": "ab8ff71d",
   "metadata": {},
   "outputs": [
    {
     "name": "stdout",
     "output_type": "stream",
     "text": [
      "23 48\n",
      "25\n",
      "0 13\n"
     ]
    }
   ],
   "source": [
    "# 2525\n",
    "hour, minute = map(int,input().split())\n",
    "add = int(input())\n",
    "\n",
    "minute += add\n",
    "\n",
    "while True:\n",
    "    if(minute >= 60):\n",
    "        hour+=1\n",
    "        minute= minute - 60\n",
    "    \n",
    "    if(hour >= 24):\n",
    "        hour-=24\n",
    "        \n",
    "    if(minute < 60):\n",
    "        break;\n",
    "    \n",
    "print(f\"{hour} {minute}\")\n"
   ]
  },
  {
   "cell_type": "code",
   "execution_count": 26,
   "id": "314cdf88",
   "metadata": {},
   "outputs": [
    {
     "name": "stdout",
     "output_type": "stream",
     "text": [
      "6 2 5\n",
      "600\n"
     ]
    }
   ],
   "source": [
    "# 2480\n",
    "a,b,c  = map(int,input().split())\n",
    "total = int(0)\n",
    "big = int(0)\n",
    "if(a==b and a==c):\n",
    "    total = 10000+a*1000\n",
    "    \n",
    "elif(a==b):\n",
    "    total = 1000+a*100\n",
    "elif(a==c):\n",
    "    total = 1000+a*100\n",
    "elif(b==c):\n",
    "    total = 1000+b*100\n",
    "\n",
    "else:\n",
    "    if(a<b):\n",
    "        big = b\n",
    "    else:\n",
    "        big = a\n",
    "        \n",
    "    if(big < c):\n",
    "        big = c\n",
    "        \n",
    "    total = big*100\n",
    "    \n",
    "print(total)  "
   ]
  }
 ],
 "metadata": {
  "kernelspec": {
   "display_name": "Python 3 (ipykernel)",
   "language": "python",
   "name": "python3"
  },
  "language_info": {
   "codemirror_mode": {
    "name": "ipython",
    "version": 3
   },
   "file_extension": ".py",
   "mimetype": "text/x-python",
   "name": "python",
   "nbconvert_exporter": "python",
   "pygments_lexer": "ipython3",
   "version": "3.9.12"
  }
 },
 "nbformat": 4,
 "nbformat_minor": 5
}
