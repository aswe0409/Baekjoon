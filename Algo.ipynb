{
 "cells": [
  {
   "cell_type": "code",
   "execution_count": null,
   "id": "53091f22",
   "metadata": {},
   "outputs": [],
   "source": [
    "#2738\n",
    "n,m = int(input().split())\n"
   ]
  },
  {
   "cell_type": "code",
   "execution_count": 2,
   "id": "e7355822",
   "metadata": {},
   "outputs": [
    {
     "name": "stdout",
     "output_type": "stream",
     "text": [
      "sprout\n",
      "3\n",
      "r\n"
     ]
    }
   ],
   "source": [
    "#27866\n",
    "s = input()\n",
    "num = int(input())\n",
    "\n",
    "print(s[num-1])"
   ]
  },
  {
   "cell_type": "code",
   "execution_count": 1,
   "id": "d37a0e21",
   "metadata": {},
   "outputs": [
    {
     "name": "stdout",
     "output_type": "stream",
     "text": [
      "33 11\n",
      "0\n",
      "8\n"
     ]
    }
   ],
   "source": [
    "a,b = map(int,input().split())\n",
    "\n",
    "a_x = (a-1) // 4\n",
    "a_y = (a-1) % 4 \n",
    "b_x = (b-1) // 4\n",
    "b_y = (b-1) % 4\n",
    "print(a_y)\n",
    "\n",
    "x_distance = abs(a_x - b_x)\n",
    "y_distance = abs(a_y - b_y)\n",
    "\n",
    "print(abs(x_distance + y_distance))"
   ]
  },
  {
   "cell_type": "code",
   "execution_count": 6,
   "id": "db8febbe",
   "metadata": {},
   "outputs": [
    {
     "name": "stdout",
     "output_type": "stream",
     "text": [
      "2541\n",
      "1998\n"
     ]
    }
   ],
   "source": [
    "#18108\n",
    "year = int(input())\n",
    "print(year-543)"
   ]
  },
  {
   "cell_type": "code",
   "execution_count": 11,
   "id": "067ed083",
   "metadata": {},
   "outputs": [
    {
     "name": "stdout",
     "output_type": "stream",
     "text": [
      "2 1 2 1 2 1\n",
      "-1 0 0 1 0 7\n"
     ]
    }
   ],
   "source": [
    "# 3003\n",
    "king = 1\n",
    "queen = 1\n",
    "look = 2\n",
    "bi = 2\n",
    "night = 2\n",
    "phone = 8\n",
    "\n",
    "arr = list(map(int,input().split()))\n",
    "print(king-arr[0], queen-arr[1], look-arr[2], bi-arr[3], night-arr[4], phone-arr[5])"
   ]
  },
  {
   "cell_type": "code",
   "execution_count": 18,
   "id": "a10aaf6e",
   "metadata": {},
   "outputs": [
    {
     "name": "stdout",
     "output_type": "stream",
     "text": [
      "5 8 4\n",
      "1\n",
      "1\n",
      "0\n",
      "0\n"
     ]
    }
   ],
   "source": [
    "#10430\n",
    "a,b,c = map(int,input().split())\n",
    "print((a+b)%c)\n",
    "print(((a%c)+(b%c))%c)\n",
    "print((a*b)%c)\n",
    "print(((a%c)*(b%c))%c)"
   ]
  },
  {
   "cell_type": "code",
   "execution_count": 22,
   "id": "f1580fbe",
   "metadata": {},
   "outputs": [
    {
     "name": "stdout",
     "output_type": "stream",
     "text": [
      "472\n",
      "385\n",
      "2360\n",
      "3776\n",
      "1416\n",
      "181720\n"
     ]
    }
   ],
   "source": [
    "a = int(input())\n",
    "b = int(input())\n",
    "print(a*(b%10))\n",
    "print(a*((b//10)%10))\n",
    "print(a*(b//100))\n",
    "print(a*b)"
   ]
  },
  {
   "cell_type": "code",
   "execution_count": 24,
   "id": "ec27a383",
   "metadata": {},
   "outputs": [
    {
     "name": "stdout",
     "output_type": "stream",
     "text": [
      "\\    /\\\n",
      " )  ( ')\n",
      "(  /  )\n",
      " \\(__)|\n"
     ]
    }
   ],
   "source": [
    "print(\"\\\\    /\\\\\")\n",
    "print(\" )  ( ')\")\n",
    "print(\"(  /  )\")\n",
    "print(\" \\\\(__)|\")"
   ]
  },
  {
   "cell_type": "code",
   "execution_count": 26,
   "id": "f64ac011",
   "metadata": {},
   "outputs": [
    {
     "name": "stdout",
     "output_type": "stream",
     "text": [
      "|\\_/|\n",
      "|q p|   /}\n",
      "( 0 )\"\"\"\\\n",
      "|\"^\"`    |\n",
      "||_/=\\\\__|\n"
     ]
    }
   ],
   "source": [
    "print(\"|\\_/|\")\n",
    "print(\"|q p|   /}\")\n",
    "print('( 0 )\"\"\"\\\\') \n",
    "print('|\"^\"`    |')\n",
    "print(\"||_/=\\\\\\__|\") "
   ]
  },
  {
   "cell_type": "code",
   "execution_count": 27,
   "id": "4e4c534a",
   "metadata": {},
   "outputs": [
    {
     "name": "stdout",
     "output_type": "stream",
     "text": [
      "         ,r'\"7\n",
      "r`-_   ,'  ,/\n",
      " \\. \". L_r'\n",
      "   `~\\/\n",
      "      |\n",
      "      |\n"
     ]
    }
   ],
   "source": [
    "print('         ,r\\'\\\"7')\n",
    "print('r`-_   ,\\'  ,/')\n",
    "print(' \\. \\\". L_r\\'')\n",
    "print('   `~\\/')\n",
    "print('      |')\n",
    "print('      |')"
   ]
  },
  {
   "cell_type": "code",
   "execution_count": 2,
   "id": "872eaa48",
   "metadata": {},
   "outputs": [
    {
     "name": "stdout",
     "output_type": "stream",
     "text": [
      "10 5\n",
      ">\n"
     ]
    }
   ],
   "source": [
    "# 1330\n",
    "a , b = map(int,input().split())\n",
    "if a > b:\n",
    "    print('>')\n",
    "    \n",
    "elif a < b:\n",
    "    print('<')\n",
    "    \n",
    "elif a == b:\n",
    "    print('==')"
   ]
  },
  {
   "cell_type": "code",
   "execution_count": 4,
   "id": "dff5cb69",
   "metadata": {},
   "outputs": [
    {
     "name": "stdout",
     "output_type": "stream",
     "text": [
      "100\n",
      "A\n"
     ]
    }
   ],
   "source": [
    "#9498\n",
    "score = int(input())\n",
    "\n",
    "if score >= 90:\n",
    "    print('A')\n",
    "    \n",
    "elif score >= 80:\n",
    "    print('B')\n",
    "    \n",
    "elif score >= 70:\n",
    "    print('C')\n",
    "    \n",
    "elif score >= 60:\n",
    "    print('D')\n",
    "    \n",
    "else:\n",
    "    print('F')"
   ]
  },
  {
   "cell_type": "code",
   "execution_count": 7,
   "id": "c25b9d0f",
   "metadata": {
    "scrolled": true
   },
   "outputs": [
    {
     "name": "stdout",
     "output_type": "stream",
     "text": [
      "2000\n",
      "1\n"
     ]
    }
   ],
   "source": [
    "#2753\n",
    "year = int(input())\n",
    "\n",
    "if year % 4 == 0 and year % 100 != 0 or year % 400 == 0:\n",
    "    print('1')\n",
    "    \n",
    "else:\n",
    "    print('0')"
   ]
  },
  {
   "cell_type": "code",
   "execution_count": 11,
   "id": "e449f74d",
   "metadata": {},
   "outputs": [
    {
     "name": "stdout",
     "output_type": "stream",
     "text": [
      "9\n",
      "-13\n",
      "4\n"
     ]
    }
   ],
   "source": [
    "#14681\n",
    "x = int(input())\n",
    "y = int(input())\n",
    "\n",
    "if x >0 and y > 0:\n",
    "    print('1')\n",
    "    \n",
    "elif x < 0 and y > 0:\n",
    "    print('2')\n",
    "\n",
    "elif x < 0 and y < 0:\n",
    "    print('3')\n",
    "    \n",
    "elif x > 0 and y < 0:\n",
    "    print('4')"
   ]
  },
  {
   "cell_type": "code",
   "execution_count": 5,
   "id": "f303c9e4",
   "metadata": {},
   "outputs": [
    {
     "name": "stdout",
     "output_type": "stream",
     "text": [
      "23 40\n",
      "22 55\n"
     ]
    }
   ],
   "source": [
    "#2884\n",
    "hour , minute = map(int,input().split())\n",
    "# 시간을분으로 바꿔서 계산해준 담에 다시 분을 -> 시간 분 형태로 바꿔주기\n",
    "time = (hour *60) + minute\n",
    "\n",
    "\n",
    "newtime = time - 45\n",
    "newhour = newtime // 60\n",
    "newminute = newtime % 60\n",
    "if newhour < 0:\n",
    "    newhour = 24 + newhour\n",
    "    print(f\"{newhour} {newminute}\")\n",
    "\n",
    "else:\n",
    "    print(f\"{newhour} {newminute}\")\n"
   ]
  },
  {
   "cell_type": "code",
   "execution_count": null,
   "id": "2f7c2736",
   "metadata": {},
   "outputs": [],
   "source": [
    "# 2525\n",
    "hour, minute = map(int,input().split())\n",
    "time = int(input(1))\n",
    "\n"
   ]
  },
  {
   "cell_type": "code",
   "execution_count": 13,
   "id": "375fa076",
   "metadata": {},
   "outputs": [
    {
     "name": "stdout",
     "output_type": "stream",
     "text": [
      "6 8\n",
      "10111001\n",
      "11101111\n",
      "01100101\n",
      "11110010\n",
      "10101111\n",
      "01111111\n",
      "13\n"
     ]
    }
   ],
   "source": [
    "#2178\n",
    "from collections import deque\n",
    "\n",
    "n,m = map(int,input().split())\n",
    "miro = []\n",
    "for i in range(n):\n",
    "    miro.append(list(map(int,input())))\n",
    "\n",
    "# 방향\n",
    "dx = [-1, 0, 1, 0]\n",
    "dy = [0, -1, 0, 1]\n",
    "\n",
    "def bfs(x,y):\n",
    "    q = deque()\n",
    "    q.append((x,y))\n",
    "    \n",
    "    while q:\n",
    "        x,y = q.popleft()\n",
    "        \n",
    "        for i in range(4):\n",
    "            nx = x + dx[i]\n",
    "            ny = y + dy[i]\n",
    "            \n",
    "            if nx < 0 or nx >= n or ny < 0 or ny >= m:\n",
    "                continue\n",
    "        \n",
    "            if miro[nx][ny] == 0:\n",
    "                continue\n",
    "            \n",
    "            if miro[nx][ny] == 1:\n",
    "                miro[nx][ny] = miro[x][y] + 1\n",
    "                q.append((nx,ny))\n",
    "            \n",
    "    return miro[n-1][m-1]\n",
    "    \n",
    "print(bfs(0,0))        "
   ]
  },
  {
   "cell_type": "code",
   "execution_count": null,
   "id": "886c9816",
   "metadata": {},
   "outputs": [],
   "source": [
    "# 2525\n",
    "hour, minute = map(int,input().split())\n",
    "add = int(input())\n",
    "\n",
    "minute += add\n",
    "\n",
    "while True:\n",
    "    if(minute >= 60):\n",
    "        hour+=1\n",
    "        minute= minute - 60\n",
    "    \n",
    "    if(hour >= 24):\n",
    "        hour-=24\n",
    "        \n",
    "    if(minute < 60):\n",
    "        break;\n",
    "    \n",
    "print(f\"{hour} {minute}\")\n"
   ]
  },
  {
   "cell_type": "code",
   "execution_count": null,
   "id": "042ad82f",
   "metadata": {},
   "outputs": [],
   "source": [
    "# 2480\n",
    "a,b,c  = map(int,input().split())\n",
    "total = int(0)\n",
    "big = int(0)\n",
    "if(a==b and a==c):\n",
    "    total = 10000+a*1000\n",
    "    \n",
    "elif(a==b):\n",
    "    total = 1000+a*100\n",
    "elif(a==c):\n",
    "    total = 1000+a*100\n",
    "elif(b==c):\n",
    "    total = 1000+b*100\n",
    "\n",
    "else:\n",
    "    if(a<b):\n",
    "        big = b\n",
    "    else:\n",
    "        big = a\n",
    "        \n",
    "    if(big < c):\n",
    "        big = c\n",
    "        \n",
    "    total = big*100\n",
    "    \n",
    "print(total)  "
   ]
  },
  {
   "cell_type": "code",
   "execution_count": null,
   "id": "81b457a6",
   "metadata": {},
   "outputs": [],
   "source": [
    "#2739\n",
    "num = int(input())\n",
    "\n",
    "for i in range(1,10):\n",
    "    print(f\"{num} * {i} = {num*i}\")"
   ]
  },
  {
   "cell_type": "code",
   "execution_count": null,
   "id": "bad3d506",
   "metadata": {},
   "outputs": [],
   "source": [
    "#10950\n",
    "t = int(input())\n",
    "\n",
    "for i in range(0,t):\n",
    "    a,b = map(int,input().split())\n",
    "    print(a+b)"
   ]
  },
  {
   "cell_type": "code",
   "execution_count": null,
   "id": "e529c480",
   "metadata": {},
   "outputs": [],
   "source": [
    "#8393\n",
    "n = int(input())\n",
    "result = int(0)\n",
    "\n",
    "for i in range(1,n+1):\n",
    "    result+=i\n",
    "    \n",
    "print(result)"
   ]
  },
  {
   "cell_type": "code",
   "execution_count": null,
   "id": "76fc890a",
   "metadata": {},
   "outputs": [],
   "source": [
    "#25304\n",
    "total = int(input())\n",
    "count = int(input())\n",
    "sum1=int(0)\n",
    "\n",
    "for i in range(0,count):\n",
    "    price, num = map(int,input().split())\n",
    "    sum1 = sum1+price*num\n",
    "\n",
    "if(total == sum1):\n",
    "    print(\"Yes\")\n",
    "    \n",
    "else:\n",
    "    print(\"No\")"
   ]
  },
  {
   "cell_type": "code",
   "execution_count": null,
   "id": "78440fa2",
   "metadata": {},
   "outputs": [],
   "source": [
    "# 15552\n",
    "import sys\n",
    "n = int(input())\n",
    "\n",
    "for i in range(n):\n",
    "    a,b = map(int, sys.stdin.readline().split())\n",
    "    print(a+b)"
   ]
  },
  {
   "cell_type": "code",
   "execution_count": null,
   "id": "c24bc45a",
   "metadata": {},
   "outputs": [],
   "source": [
    "#11021\n",
    "n = int(input())\n",
    "\n",
    "for i in range(1,n+1):\n",
    "    a,b = map(int,input().split())\n",
    "    print(f\"Case #{i}: {a+b}\")"
   ]
  },
  {
   "cell_type": "code",
   "execution_count": null,
   "id": "bf8c6e3f",
   "metadata": {},
   "outputs": [],
   "source": [
    "#11022\n",
    "n = int(input())\n",
    "\n",
    "for i in range(1,n+1):\n",
    "    a,b = map(int,input().split())\n",
    "    print(f\"Case #{i}: {a} + {b} = {a+b}\")"
   ]
  },
  {
   "cell_type": "code",
   "execution_count": null,
   "id": "1189ce50",
   "metadata": {},
   "outputs": [],
   "source": [
    "#2438\n",
    "n = int(input())\n",
    "for i in range(1,n+1):\n",
    "    print('*' *i)\n"
   ]
  },
  {
   "cell_type": "code",
   "execution_count": null,
   "id": "c9b9871a",
   "metadata": {},
   "outputs": [],
   "source": [
    "#2439\n",
    "n = int(input())\n",
    "for i in range(1,n+1):\n",
    "    print(' '*(n-i) +'*'*i)"
   ]
  },
  {
   "cell_type": "code",
   "execution_count": null,
   "id": "e6aaad3a",
   "metadata": {},
   "outputs": [],
   "source": [
    "# 10952\n",
    "while True:\n",
    "    a,b = map(int,input().split())\n",
    "    if (a==0 and b == 0):\n",
    "        break;\n",
    "    else:\n",
    "        print(a+b)"
   ]
  },
  {
   "cell_type": "code",
   "execution_count": null,
   "id": "4added2a",
   "metadata": {},
   "outputs": [],
   "source": [
    "#10951\n",
    "while True:\n",
    "    try:\n",
    "        a,b = map(int,input().split())\n",
    "        print(a+b)\n",
    "    except:\n",
    "        break;\n",
    "        \n",
    "#"
   ]
  },
  {
   "cell_type": "code",
   "execution_count": null,
   "id": "a26884f8",
   "metadata": {},
   "outputs": [],
   "source": [
    "#1110\n",
    "num = int(input())\n",
    "newnum = num\n",
    "cnt = 0\n",
    "\n",
    "while True:\n",
    "    a = newnum // 10\n",
    "    b = newnum % 10  \n",
    "    c = (a+b) % 10  #맨 오른쪾 숫자 가져오기\n",
    "    newnum = (b*10) + c\n",
    "    cnt +=1\n",
    "    if (num == newnum):\n",
    "        break\n",
    "print(cnt)"
   ]
  },
  {
   "cell_type": "code",
   "execution_count": null,
   "id": "ad33161e",
   "metadata": {},
   "outputs": [],
   "source": [
    "# 10807\n",
    "n = int(input())\n",
    "arr  = list(map(int,input().split()))\n",
    "aim = int(input())\n",
    "cnt = arr.count(aim)\n",
    "\n",
    "print(cnt)"
   ]
  },
  {
   "cell_type": "code",
   "execution_count": null,
   "id": "035aac91",
   "metadata": {},
   "outputs": [],
   "source": [
    "# 10871\n",
    "n,x = map(int, input().split())\n",
    "arr = list(map(int,input().split()))\n",
    "\n",
    "for i in arr:\n",
    "    if (i < x):\n",
    "        print(i, end=' ') \n",
    "    "
   ]
  },
  {
   "cell_type": "code",
   "execution_count": null,
   "id": "3e24512a",
   "metadata": {},
   "outputs": [],
   "source": [
    "#10818\n",
    "num = int(input())\n",
    "arr = list(map(int, input().split()))\n",
    "m = max(arr)\n",
    "n = min(arr)\n",
    "print(n,m)"
   ]
  },
  {
   "cell_type": "code",
   "execution_count": null,
   "id": "4469183f",
   "metadata": {},
   "outputs": [],
   "source": [
    "# 2562\n",
    "arr = []\n",
    "for i in range(9):\n",
    "    arr.append(int(input()))\n",
    "\n",
    "m = max(arr)\n",
    "print(m)\n",
    "for i in range(len(arr)):\n",
    "    if(arr[i] == m):\n",
    "        print(i+1)"
   ]
  },
  {
   "cell_type": "code",
   "execution_count": null,
   "id": "b8af9220",
   "metadata": {},
   "outputs": [],
   "source": [
    "# 5597\n",
    "apply_arr = []\n",
    "a = int(0)\n",
    "\n",
    "for i in range(28):\n",
    "    apply_arr.append(int(input()))\n",
    "\n",
    "apply_arr.sort()\n",
    "for i in range(1,31):\n",
    "    if(i != apply_arr[a]):\n",
    "        print(i)\n",
    "    else:\n",
    "        a+=1"
   ]
  },
  {
   "cell_type": "code",
   "execution_count": null,
   "id": "44570faf",
   "metadata": {},
   "outputs": [],
   "source": [
    "#5597\n",
    "total_arr = []\n",
    "for i in range(1,31):\n",
    "    total_arr.append(i)\n",
    "    \n",
    "for i in range(28):\n",
    "    num = int(input())\n",
    "    total_arr.remove(num)\n",
    "print(min(total_arr))\n",
    "print(max(total_arr))"
   ]
  },
  {
   "cell_type": "code",
   "execution_count": null,
   "id": "4aac4aad",
   "metadata": {},
   "outputs": [],
   "source": [
    "# 3052\n",
    "numarr = []\n",
    "divarr = []\n",
    "for i in range(10):\n",
    "    numarr.append(int(input()))\n",
    "    divarr.append(numarr[i] % 42)\n",
    "    \n",
    "divarr = set(divarr)\n",
    "print(len(divarr))"
   ]
  },
  {
   "cell_type": "code",
   "execution_count": null,
   "id": "077aa18e",
   "metadata": {},
   "outputs": [],
   "source": [
    "#1546\n",
    "n = int(input())\n",
    "score = list(map(int,input().split()))\n",
    "\n",
    "m = max(score)\n",
    "newscore = []\n",
    "for i in score:\n",
    "    newscore.append(i/m*100)\n",
    "\n",
    "avg = sum(newscore) / len(newscore)\n",
    "print(f\"{avg:.2f}\")"
   ]
  },
  {
   "cell_type": "code",
   "execution_count": null,
   "id": "ce5f9ec3",
   "metadata": {},
   "outputs": [],
   "source": [
    "#8958\n",
    "n = int(input())\n",
    "for i in range(n):\n",
    "    summ = 0\n",
    "    ret = input()\n",
    "    c= 1\n",
    "    for j in range(len(ret)):\n",
    "        if ret[j] == 'O':\n",
    "            summ = summ + c\n",
    "            c = c+1\n",
    "        else:\n",
    "            c = 1\n",
    "    print(summ)\n",
    "        \n",
    "    "
   ]
  },
  {
   "cell_type": "code",
   "execution_count": null,
   "id": "8cbc265e",
   "metadata": {},
   "outputs": [],
   "source": [
    "#4344\n",
    "n = int(input())\n",
    "for i in range(n):\n",
    "    arr = list(map(int,input().split()))\n",
    "    summ = 0\n",
    "    cnt = 0\n",
    "    for j in range(len(arr)-1):\n",
    "        summ = summ + arr[j+1]\n",
    "    avg = summ / arr[0]\n",
    "    \n",
    "    for j in range(len(arr)-1):\n",
    "        if avg < arr[j+1]:\n",
    "            cnt = cnt + 1\n",
    "    per = cnt / arr[0] * 100\n",
    "    print(f\"{per:.3f}%\")\n",
    "            "
   ]
  },
  {
   "cell_type": "code",
   "execution_count": null,
   "id": "5e6da1ce",
   "metadata": {},
   "outputs": [],
   "source": [
    "#15596\n",
    "def add(a):\n",
    "    return sum(a)"
   ]
  },
  {
   "cell_type": "code",
   "execution_count": null,
   "id": "782c4294",
   "metadata": {},
   "outputs": [],
   "source": [
    "#4673\n",
    "total_num = set(range(1,10001))\n",
    "non_num = set()\n",
    "for i in range(1,10001):  #셀프 넘버 아닌거\n",
    "    for j in str(i):\n",
    "        i = i+int(j)\n",
    "    non_num.add(i)\n",
    "\n",
    "self_num = sorted(total_num - non_num)\n",
    "\n",
    "for i in self_num:\n",
    "    print(i)"
   ]
  },
  {
   "cell_type": "code",
   "execution_count": null,
   "id": "e6a7f871",
   "metadata": {},
   "outputs": [],
   "source": [
    "n = int(input())\n",
    "cnt = int(0)\n",
    "\n",
    "for i in range(1,n+1):\n",
    "    i = str(i)\n",
    "    if int(i) < 100:\n",
    "        cnt +=1\n",
    "    elif int(i[0]) - int(i[1]) == int(i[1])-int(i[2]):\n",
    "        cnt +=1\n",
    "        \n",
    "print(cnt)"
   ]
  },
  {
   "cell_type": "code",
   "execution_count": null,
   "id": "647658b0",
   "metadata": {},
   "outputs": [],
   "source": [
    "#11654\n",
    "a = input()\n",
    "print(ord(a))"
   ]
  },
  {
   "cell_type": "code",
   "execution_count": null,
   "id": "acdf1640",
   "metadata": {},
   "outputs": [],
   "source": [
    "#11720\n",
    "n = int(input())\n",
    "num = input()\n",
    "ret = int(0)\n",
    "\n",
    "for i in num:\n",
    "    ret = ret+int(i)\n",
    "    \n",
    "print(ret)\n"
   ]
  },
  {
   "cell_type": "code",
   "execution_count": null,
   "id": "a692c535",
   "metadata": {},
   "outputs": [],
   "source": [
    "#10809\n",
    "s = input()\n",
    "alpa = list(range(97,123))\n",
    "\n",
    "for i in alpa:\n",
    "    print(s.find(chr(i)),end =' ')"
   ]
  },
  {
   "cell_type": "code",
   "execution_count": null,
   "id": "be52a064",
   "metadata": {},
   "outputs": [],
   "source": [
    "#2675\n",
    "test_case = int(input())\n",
    "for i in range(test_case):\n",
    "    s1 = str()\n",
    "    r,s = input().split()\n",
    "    for j in s:\n",
    "        s1 = s1 + j*int(r)\n",
    "    print(s1)\n"
   ]
  },
  {
   "cell_type": "code",
   "execution_count": null,
   "id": "ccfba386",
   "metadata": {},
   "outputs": [],
   "source": [
    "#1157\n",
    "s = input()\n",
    "s = s.upper()\n",
    "s1 = list(set(s))\n",
    "cnt = []\n",
    "\n",
    "for i in s1:\n",
    "    cnt.append(s.count(i))\n",
    "\n",
    "if cnt.coun\n",
    "(max(cnt)) > 1:\n",
    "    print('?')\n",
    "\n",
    "else:\n",
    "    print(s1[(cnt.index(max(cnt)))].upper())"
   ]
  },
  {
   "cell_type": "code",
   "execution_count": null,
   "id": "8732ca5d",
   "metadata": {},
   "outputs": [],
   "source": [
    "#1152\n",
    "s = input().split()\n",
    "print(len(s))"
   ]
  },
  {
   "cell_type": "code",
   "execution_count": null,
   "id": "af9bca49",
   "metadata": {},
   "outputs": [],
   "source": [
    "#2908\n",
    "num1 , num2 = input().split()\n",
    "num1 = num1[::-1]\n",
    "num2 = num2[::-1]\n",
    "\n",
    "if int(num1) > int(num2):\n",
    "    print(num1)\n",
    "    \n",
    "else:\n",
    "    print(num2)"
   ]
  },
  {
   "cell_type": "code",
   "execution_count": null,
   "id": "a36ddf8b",
   "metadata": {},
   "outputs": [],
   "source": [
    "# 5622\n",
    "s = input()\n",
    "dial = ['ABC','DEF','GHI','JKL','MNO','PQRS','TUV','WXYZ']\n",
    "cnt = int(0)\n",
    "\n",
    "for i in range(len(s)):\n",
    "    for j in dial:\n",
    "        if s[i] in j:\n",
    "            cnt = cnt + dial.index(j) + 3\n",
    "print(cnt)"
   ]
  },
  {
   "cell_type": "code",
   "execution_count": null,
   "id": "63f40ce4",
   "metadata": {},
   "outputs": [],
   "source": [
    "# 2941\n",
    "sample = input()\n",
    "cro = ['c=','c-','dz=','d-','lj','nj','s=','z=']\n",
    "\n",
    "for i in cro:\n",
    "    sample = sample.replace(i,'a')\n",
    "print(len(sample))"
   ]
  },
  {
   "cell_type": "code",
   "execution_count": null,
   "id": "6fe34812",
   "metadata": {},
   "outputs": [],
   "source": [
    "# 1316\n",
    "num = int(input())\n",
    "cnt = num\n",
    "\n",
    "for i in range(num):\n",
    "    string = input()\n",
    "    for j in range(0,len(string)-1):\n",
    "        if string[j] == string[j+1]:\n",
    "            pass\n",
    "        elif string[j] in string[j+1:]:\n",
    "            cnt-=1\n",
    "            break\n",
    "print(cnt)"
   ]
  },
  {
   "cell_type": "code",
   "execution_count": null,
   "id": "cd871f0f",
   "metadata": {},
   "outputs": [],
   "source": [
    "#1712\n",
    "# a = 고정비 , b = 가변비(인건비, 재료), c= 노트북 가격\n",
    "a,b,c = map(int,input().split())\n",
    "i = int(0)\n",
    "while True:\n",
    "    if b >= c:\n",
    "        print(int(-1))\n",
    "        break\n",
    "    else a+(b*i) < c*i:\n",
    "        print(i)\n",
    "        break\n",
    "    i+=1 "
   ]
  },
  {
   "cell_type": "code",
   "execution_count": null,
   "id": "60606bba",
   "metadata": {},
   "outputs": [],
   "source": [
    "#1712\n",
    "# a = 고정비 , b = 가변비(인건비, 재료), c= 노트북 가격\n",
    "a,b,c = map(int,input().split())\n",
    "\n",
    "if b>=c:\n",
    "    print(int(-1))\n",
    "    \n",
    "else:\n",
    "    print(int(a/(c-b)+1))"
   ]
  },
  {
   "cell_type": "code",
   "execution_count": null,
   "id": "f6f56f31",
   "metadata": {},
   "outputs": [],
   "source": [
    "#2292\n",
    "n = int(input())\n",
    "cnt = int(1)\n",
    "room = int(1)\n",
    "i = int(6)\n",
    "\n",
    "while n > room:\n",
    "    cnt +=1\n",
    "    room += i\n",
    "    i += 6\n",
    "print(cnt)\n",
    "    "
   ]
  },
  {
   "cell_type": "code",
   "execution_count": null,
   "id": "d040d3d8",
   "metadata": {},
   "outputs": [],
   "source": [
    "#1193\n",
    "num = int(input())\n",
    "\n",
    "line=1\n",
    "while num>line:\n",
    "    num-=line\n",
    "    line+=1\n",
    "print(line)\n",
    "print(num)"
   ]
  },
  {
   "cell_type": "code",
   "execution_count": null,
   "id": "d3c5394c",
   "metadata": {},
   "outputs": [],
   "source": [
    "#10250\n",
    "t = int(input())\n",
    "#h = 층수, w=  각 층의 방수 n= 몇 번째 손님인지\n",
    "for i in range(t):\n",
    "    h,w,n = map(int,input().split())\n",
    "    top = n % h\n",
    "    room = n // h +1\n",
    "    \n",
    "    if top == 0:\n",
    "        top = h\n",
    "        print(f\"{top * 100 + room-1}\")\n",
    "    else:\n",
    "        print(f\"{top * 100 + room}\")\n"
   ]
  },
  {
   "cell_type": "code",
   "execution_count": null,
   "id": "80c058d2",
   "metadata": {},
   "outputs": [],
   "source": [
    "#2869\n",
    "\n",
    "a,b,v = map(int,input().split())\n",
    "\n",
    "if ((v-b)%(a-b) == 0):\n",
    "    print((v-b)//(a-b))\n",
    "\n",
    "else:\n",
    "    print((v-b)//(a-b)+1)"
   ]
  },
  {
   "cell_type": "code",
   "execution_count": null,
   "id": "70942a59",
   "metadata": {},
   "outputs": [],
   "source": [
    "#2839\n",
    "suger = int(input())\n",
    "cnt = int(0)\n",
    "\n",
    "while True:\n",
    "    if suger == 1 or suger == 2:\n",
    "        print(-1)\n",
    "        break\n",
    "    if(suger % 5 == 0):\n",
    "        cnt = cnt + suger // 5\n",
    "        print(cnt)\n",
    "        break\n",
    "    suger -= 3\n",
    "    cnt += 1"
   ]
  },
  {
   "cell_type": "code",
   "execution_count": 1,
   "id": "584fa952",
   "metadata": {},
   "outputs": [
    {
     "name": "stdout",
     "output_type": "stream",
     "text": [
      "77 77 7777\n",
      "7931\n"
     ]
    }
   ],
   "source": [
    "#11382\n",
    "a,b,c = map(int,input().split())\n",
    "print(a+b+c)"
   ]
  },
  {
   "cell_type": "code",
   "execution_count": 21,
   "id": "b06798fe",
   "metadata": {},
   "outputs": [
    {
     "name": "stdout",
     "output_type": "stream",
     "text": [
      "20\n",
      "long long long long long int\n"
     ]
    }
   ],
   "source": [
    "#25314\n",
    "n = int(input())\n",
    "for i in range(n//4):\n",
    "    print('long ',end='')\n",
    "print('int')"
   ]
  },
  {
   "cell_type": "code",
   "execution_count": 22,
   "id": "af1daaa1",
   "metadata": {},
   "outputs": [
    {
     "name": "stdout",
     "output_type": "stream",
     "text": [
      "123\n",
      "3\n"
     ]
    }
   ],
   "source": [
    "# 2743\n",
    "word = input()\n",
    "print(len(word))"
   ]
  },
  {
   "cell_type": "code",
   "execution_count": 26,
   "id": "146fb7cd",
   "metadata": {},
   "outputs": [
    {
     "name": "stdout",
     "output_type": "stream",
     "text": [
      "1\n",
      "ab\n",
      "ab\n"
     ]
    }
   ],
   "source": [
    "# 9086\n",
    "num = int(input())\n",
    "\n",
    "for i in range(num):\n",
    "    word = input()\n",
    "    print(word[0], end = '')\n",
    "    print(word[-1])"
   ]
  },
  {
   "cell_type": "code",
   "execution_count": 29,
   "id": "346b269c",
   "metadata": {},
   "outputs": [
    {
     "name": "stdout",
     "output_type": "stream",
     "text": [
      "asdf\n",
      "asdf\n",
      "df\n",
      "df\n",
      " \n",
      " \n",
      "         \n",
      "         \n"
     ]
    },
    {
     "ename": "KeyboardInterrupt",
     "evalue": "Interrupted by user",
     "output_type": "error",
     "traceback": [
      "\u001b[1;31m---------------------------------------------------------------------------\u001b[0m",
      "\u001b[1;31mKeyboardInterrupt\u001b[0m                         Traceback (most recent call last)",
      "Input \u001b[1;32mIn [29]\u001b[0m, in \u001b[0;36m<cell line: 3>\u001b[1;34m()\u001b[0m\n\u001b[0;32m      2\u001b[0m \u001b[38;5;28;01mwhile\u001b[39;00m \u001b[38;5;28;01mTrue\u001b[39;00m:\n\u001b[0;32m      3\u001b[0m     \u001b[38;5;28;01mtry\u001b[39;00m:\n\u001b[1;32m----> 4\u001b[0m         \u001b[38;5;28mprint\u001b[39m(\u001b[38;5;28;43minput\u001b[39;49m\u001b[43m(\u001b[49m\u001b[43m)\u001b[49m)\n\u001b[0;32m      5\u001b[0m     \u001b[38;5;28;01mexcept\u001b[39;00m \u001b[38;5;167;01mEOFError\u001b[39;00m:\n\u001b[0;32m      6\u001b[0m         \u001b[38;5;28;01mbreak\u001b[39;00m\n",
      "File \u001b[1;32m~\\Anaconda3\\lib\\site-packages\\ipykernel\\kernelbase.py:1075\u001b[0m, in \u001b[0;36mKernel.raw_input\u001b[1;34m(self, prompt)\u001b[0m\n\u001b[0;32m   1071\u001b[0m \u001b[38;5;28;01mif\u001b[39;00m \u001b[38;5;129;01mnot\u001b[39;00m \u001b[38;5;28mself\u001b[39m\u001b[38;5;241m.\u001b[39m_allow_stdin:\n\u001b[0;32m   1072\u001b[0m     \u001b[38;5;28;01mraise\u001b[39;00m StdinNotImplementedError(\n\u001b[0;32m   1073\u001b[0m         \u001b[38;5;124m\"\u001b[39m\u001b[38;5;124mraw_input was called, but this frontend does not support input requests.\u001b[39m\u001b[38;5;124m\"\u001b[39m\n\u001b[0;32m   1074\u001b[0m     )\n\u001b[1;32m-> 1075\u001b[0m \u001b[38;5;28;01mreturn\u001b[39;00m \u001b[38;5;28;43mself\u001b[39;49m\u001b[38;5;241;43m.\u001b[39;49m\u001b[43m_input_request\u001b[49m\u001b[43m(\u001b[49m\n\u001b[0;32m   1076\u001b[0m \u001b[43m    \u001b[49m\u001b[38;5;28;43mstr\u001b[39;49m\u001b[43m(\u001b[49m\u001b[43mprompt\u001b[49m\u001b[43m)\u001b[49m\u001b[43m,\u001b[49m\n\u001b[0;32m   1077\u001b[0m \u001b[43m    \u001b[49m\u001b[38;5;28;43mself\u001b[39;49m\u001b[38;5;241;43m.\u001b[39;49m\u001b[43m_parent_ident\u001b[49m\u001b[43m[\u001b[49m\u001b[38;5;124;43m\"\u001b[39;49m\u001b[38;5;124;43mshell\u001b[39;49m\u001b[38;5;124;43m\"\u001b[39;49m\u001b[43m]\u001b[49m\u001b[43m,\u001b[49m\n\u001b[0;32m   1078\u001b[0m \u001b[43m    \u001b[49m\u001b[38;5;28;43mself\u001b[39;49m\u001b[38;5;241;43m.\u001b[39;49m\u001b[43mget_parent\u001b[49m\u001b[43m(\u001b[49m\u001b[38;5;124;43m\"\u001b[39;49m\u001b[38;5;124;43mshell\u001b[39;49m\u001b[38;5;124;43m\"\u001b[39;49m\u001b[43m)\u001b[49m\u001b[43m,\u001b[49m\n\u001b[0;32m   1079\u001b[0m \u001b[43m    \u001b[49m\u001b[43mpassword\u001b[49m\u001b[38;5;241;43m=\u001b[39;49m\u001b[38;5;28;43;01mFalse\u001b[39;49;00m\u001b[43m,\u001b[49m\n\u001b[0;32m   1080\u001b[0m \u001b[43m\u001b[49m\u001b[43m)\u001b[49m\n",
      "File \u001b[1;32m~\\Anaconda3\\lib\\site-packages\\ipykernel\\kernelbase.py:1120\u001b[0m, in \u001b[0;36mKernel._input_request\u001b[1;34m(self, prompt, ident, parent, password)\u001b[0m\n\u001b[0;32m   1117\u001b[0m             \u001b[38;5;28;01mbreak\u001b[39;00m\n\u001b[0;32m   1118\u001b[0m \u001b[38;5;28;01mexcept\u001b[39;00m \u001b[38;5;167;01mKeyboardInterrupt\u001b[39;00m:\n\u001b[0;32m   1119\u001b[0m     \u001b[38;5;66;03m# re-raise KeyboardInterrupt, to truncate traceback\u001b[39;00m\n\u001b[1;32m-> 1120\u001b[0m     \u001b[38;5;28;01mraise\u001b[39;00m \u001b[38;5;167;01mKeyboardInterrupt\u001b[39;00m(\u001b[38;5;124m\"\u001b[39m\u001b[38;5;124mInterrupted by user\u001b[39m\u001b[38;5;124m\"\u001b[39m) \u001b[38;5;28;01mfrom\u001b[39;00m \u001b[38;5;28mNone\u001b[39m\n\u001b[0;32m   1121\u001b[0m \u001b[38;5;28;01mexcept\u001b[39;00m \u001b[38;5;167;01mException\u001b[39;00m:\n\u001b[0;32m   1122\u001b[0m     \u001b[38;5;28mself\u001b[39m\u001b[38;5;241m.\u001b[39mlog\u001b[38;5;241m.\u001b[39mwarning(\u001b[38;5;124m\"\u001b[39m\u001b[38;5;124mInvalid Message:\u001b[39m\u001b[38;5;124m\"\u001b[39m, exc_info\u001b[38;5;241m=\u001b[39m\u001b[38;5;28;01mTrue\u001b[39;00m)\n",
      "\u001b[1;31mKeyboardInterrupt\u001b[0m: Interrupted by user"
     ]
    }
   ],
   "source": [
    "#11718\n",
    "while True:\n",
    "    try:\n",
    "        print(input())\n",
    "    except EOFError:\n",
    "        break\n",
    "    "
   ]
  },
  {
   "cell_type": "code",
   "execution_count": 34,
   "id": "0a06853b",
   "metadata": {},
   "outputs": [
    {
     "name": "stdout",
     "output_type": "stream",
     "text": [
      "5\n",
      "    *\n",
      "   ***\n",
      "  *****\n",
      " *******\n",
      "*********\n",
      " *******\n",
      "  *****\n",
      "   ***\n",
      "    *\n"
     ]
    }
   ],
   "source": [
    "# 2444\n",
    "n = int(input())\n",
    "\n",
    "for i in range(1, n):\n",
    "    print(' '*(n-i) + '*'*(2*i-1))\n",
    "    \n",
    "for i in range(n, 0, -1):\n",
    "    print(' '*(n-i) + '*'*(2*i-1))"
   ]
  },
  {
   "cell_type": "code",
   "execution_count": 35,
   "id": "7d1870db",
   "metadata": {},
   "outputs": [
    {
     "name": "stdout",
     "output_type": "stream",
     "text": [
      "level\n",
      "1\n"
     ]
    }
   ],
   "source": [
    "#10988\n",
    "word = list(input())\n",
    "\n",
    "if list(reversed(word)) == word:\n",
    "    print(1)\n",
    "else:\n",
    "    print(0)\n",
    "    \n",
    "# list를 reversed 하면 type가 reversed list가되서\n",
    "# list형인 word 와 type가 달라 비교를 할수 없었다.\n",
    "# 그래서 reversed(word)도 list형태로 바꾸어 비교해줘야 한다.\n"
   ]
  }
 ],
 "metadata": {
  "kernelspec": {
   "display_name": "Python 3 (ipykernel)",
   "language": "python",
   "name": "python3"
  },
  "language_info": {
   "codemirror_mode": {
    "name": "ipython",
    "version": 3
   },
   "file_extension": ".py",
   "mimetype": "text/x-python",
   "name": "python",
   "nbconvert_exporter": "python",
   "pygments_lexer": "ipython3",
   "version": "3.9.12"
  }
 },
 "nbformat": 4,
 "nbformat_minor": 5
}
