{
 "cells": [
  {
   "cell_type": "code",
   "execution_count": 1,
   "id": "7cbbc11a",
   "metadata": {},
   "outputs": [
    {
     "name": "stdout",
     "output_type": "stream",
     "text": [
      "A\n",
      "65\n"
     ]
    }
   ],
   "source": [
    "#11654\n",
    "a = input()\n",
    "print(ord(a))"
   ]
  },
  {
   "cell_type": "code",
   "execution_count": 4,
   "id": "51e52506",
   "metadata": {},
   "outputs": [
    {
     "name": "stdout",
     "output_type": "stream",
     "text": [
      "5\n",
      "54321\n",
      "15\n"
     ]
    }
   ],
   "source": [
    "#11720\n",
    "n = int(input())\n",
    "num = input()\n",
    "ret = int(0)\n",
    "\n",
    "for i in num:\n",
    "    ret = ret+int(i)\n",
    "    \n",
    "print(ret)\n"
   ]
  },
  {
   "cell_type": "code",
   "execution_count": 5,
   "id": "f68881f1",
   "metadata": {},
   "outputs": [
    {
     "name": "stdout",
     "output_type": "stream",
     "text": [
      "beakjoon\n",
      "2 0 -1 -1 1 -1 -1 -1 -1 4 3 -1 -1 7 5 -1 -1 -1 -1 -1 -1 -1 -1 -1 -1 -1 "
     ]
    }
   ],
   "source": [
    "#10809\n",
    "s = input()\n",
    "alpa = list(range(97,123))\n",
    "\n",
    "for i in alpa:\n",
    "    print(s.find(chr(i)),end =' ')"
   ]
  },
  {
   "cell_type": "code",
   "execution_count": 18,
   "id": "590d3db1",
   "metadata": {},
   "outputs": [
    {
     "name": "stdout",
     "output_type": "stream",
     "text": [
      "2\n",
      "3 ABC\n",
      "AAABBBCCC\n",
      "5 /HTP\n",
      "/////HHHHHTTTTTPPPPP\n"
     ]
    }
   ],
   "source": [
    "#2675\n",
    "test_case = int(input())\n",
    "for i in range(test_case):\n",
    "    s1 = str()\n",
    "    r,s = input().split()\n",
    "    for j in s:\n",
    "        s1 = s1 + j*int(r)\n",
    "    print(s1)\n"
   ]
  },
  {
   "cell_type": "code",
   "execution_count": 86,
   "id": "35b10d58",
   "metadata": {},
   "outputs": [
    {
     "name": "stdout",
     "output_type": "stream",
     "text": [
      "abbbcc\n",
      "3\n",
      "2\n",
      "B\n"
     ]
    }
   ],
   "source": [
    "#1157\n",
    "s = input()\n",
    "s = s.upper()\n",
    "s1 = list(set(s))\n",
    "cnt = []\n",
    "\n",
    "for i in s1:\n",
    "    cnt.append(s.count(i))\n",
    "\n",
    "if cnt.coun\n",
    "(max(cnt)) > 1:\n",
    "    print('?')\n",
    "\n",
    "else:\n",
    "    print(s1[(cnt.index(max(cnt)))].upper())"
   ]
  },
  {
   "cell_type": "code",
   "execution_count": 93,
   "id": "b7b1005c",
   "metadata": {},
   "outputs": [
    {
     "name": "stdout",
     "output_type": "stream",
     "text": [
      "The curious case of benjamin button\n",
      "6\n"
     ]
    }
   ],
   "source": [
    "#1152\n",
    "s = input().split()\n",
    "print(len(s))"
   ]
  },
  {
   "cell_type": "code",
   "execution_count": 114,
   "id": "4bb4dd76",
   "metadata": {},
   "outputs": [
    {
     "name": "stdout",
     "output_type": "stream",
     "text": [
      "734 893\n",
      "437\n"
     ]
    }
   ],
   "source": [
    "#2908\n",
    "num1 , num2 = input().split()\n",
    "num1 = num1[::-1]\n",
    "num2 = num2[::-1]\n",
    "\n",
    "if int(num1) > int(num2):\n",
    "    print(num1)\n",
    "    \n",
    "else:\n",
    "    print(num2)"
   ]
  },
  {
   "cell_type": "code",
   "execution_count": 2,
   "id": "9aa4da8d",
   "metadata": {},
   "outputs": [
    {
     "name": "stdout",
     "output_type": "stream",
     "text": [
      "WA\n",
      "13\n"
     ]
    }
   ],
   "source": [
    "# 5622\n",
    "s = input()\n",
    "dial = ['ABC','DEF','GHI','JKL','MNO','PQRS','TUV','WXYZ']\n",
    "cnt = int(0)\n",
    "\n",
    "for i in range(len(s)):\n",
    "    for j in dial:\n",
    "        if s[i] in j:\n",
    "            cnt = cnt + dial.index(j) + 3\n",
    "print(cnt)"
   ]
  },
  {
   "cell_type": "code",
   "execution_count": 9,
   "id": "555d47e2",
   "metadata": {},
   "outputs": [
    {
     "name": "stdout",
     "output_type": "stream",
     "text": [
      "ddz=z=\n",
      "3\n"
     ]
    }
   ],
   "source": [
    "# 2941\n",
    "sample = input()\n",
    "cro = ['c=','c-','dz=','d-','lj','nj','s=','z=']\n",
    "\n",
    "for i in cro:\n",
    "    sample = sample.replace(i,'a')\n",
    "print(len(sample))"
   ]
  },
  {
   "cell_type": "code",
   "execution_count": 15,
   "id": "619ebba8",
   "metadata": {},
   "outputs": [
    {
     "name": "stdout",
     "output_type": "stream",
     "text": [
      "4\n",
      "aba\n",
      "abab\n",
      "abcabc\n",
      "a\n",
      "1\n"
     ]
    }
   ],
   "source": [
    "# 1316\n",
    "num = int(input())\n",
    "cnt = num\n",
    "\n",
    "for i in range(num):\n",
    "    string = input()\n",
    "    for j in range(0,len(string)-1):\n",
    "        if string[j] == string[j+1]:\n",
    "            pass\n",
    "        elif string[j] in string[j+1:]:\n",
    "            cnt-=1\n",
    "            break\n",
    "print(cnt)"
   ]
  }
 ],
 "metadata": {
  "kernelspec": {
   "display_name": "Python 3 (ipykernel)",
   "language": "python",
   "name": "python3"
  },
  "language_info": {
   "codemirror_mode": {
    "name": "ipython",
    "version": 3
   },
   "file_extension": ".py",
   "mimetype": "text/x-python",
   "name": "python",
   "nbconvert_exporter": "python",
   "pygments_lexer": "ipython3",
   "version": "3.9.12"
  }
 },
 "nbformat": 4,
 "nbformat_minor": 5
}
