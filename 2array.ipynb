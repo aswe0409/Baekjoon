{
 "cells": [
  {
   "cell_type": "code",
   "execution_count": 10,
   "id": "7e6351c4",
   "metadata": {},
   "outputs": [
    {
     "name": "stdout",
     "output_type": "stream",
     "text": [
      "3 3\n",
      "1 1 1\n",
      "2 2 2\n",
      "0 1 0\n",
      "3 3 3\n",
      "4 4 4\n",
      "5 5 100\n",
      "4 4 4 \n",
      "6 6 6 \n",
      "5 6 100 \n"
     ]
    }
   ],
   "source": [
    "# 2738\n",
    "n, m = map(int, input().split())\n",
    "a,b = [],[]\n",
    "\n",
    "for _ in range(n):\n",
    "    i = list(map(int, input().split()))\n",
    "    a.append(i)\n",
    "    \n",
    "for _ in range(m):\n",
    "    j = list(map(int, input().split()))\n",
    "    b.append(j)\n",
    "    \n",
    "for i in range(n):\n",
    "    for j in range(m):\n",
    "        print(a[i][j] + b[i][j], end=' ')\n",
    "    print()"
   ]
  },
  {
   "cell_type": "code",
   "execution_count": 4,
   "id": "abf7e9f7",
   "metadata": {},
   "outputs": [
    {
     "name": "stdout",
     "output_type": "stream",
     "text": [
      "1 2\n",
      "3 4\n",
      "5 6\n",
      "[[1, 2], [3, 4], [5, 6]]\n"
     ]
    }
   ],
   "source": [
    "# 2566\n",
    "arr = [list(map(int, input().split())) for _ in range(9)]\n",
    "max_num = 0\n",
    "row = 0\n",
    "col = 0\n",
    "\n",
    "for i in range(9):\n",
    "    for j in range(9):\n",
    "        if(max_num <= arr[i][j]):\n",
    "            max_num = arr[i][j]\n",
    "            row = i+1\n",
    "            col = j+1\n",
    "print(max_num)\n",
    "print(row, col)"
   ]
  },
  {
   "cell_type": "code",
   "execution_count": 75,
   "id": "6bc32491",
   "metadata": {},
   "outputs": [
    {
     "name": "stdout",
     "output_type": "stream",
     "text": [
      "ABCDE abcde 01234 FGHIJ fghij\n",
      "ABCDE abcde 01234 FGHIJ fghij\n",
      "ABCDE abcde 01234 FGHIJ fghij\n",
      "ABCDE abcde 01234 FGHIJ fghij\n",
      "ABCDE abcde 01234 FGHIJ fghij\n",
      "AAAAABBBBBCCCCCDDDDDEEEEE     aaaaabbbbbcccccdddddeeeee     0000011111222223333344444     FFFFFGGGGGHHHHHIIIIIJJJJJ     fffffggggghhhhhiiiiijjjjj"
     ]
    }
   ],
   "source": [
    "# 10798\n",
    "arr = []\n",
    "length = []\n",
    "\n",
    "for i in range(5):\n",
    "    word = input()\n",
    "    arr.append(word)\n",
    "    length.append(len(word))\n",
    "    \n",
    "i = 0\n",
    "\n",
    "for i in range(max(length)):\n",
    "    for j in range(5):\n",
    "         if(len(arr[j]) > i ):\n",
    "            print(arr[j][i], end ='')"
   ]
  },
  {
   "cell_type": "code",
   "execution_count": 65,
   "id": "b38d9af2",
   "metadata": {},
   "outputs": [
    {
     "name": "stdout",
     "output_type": "stream",
     "text": [
      "3\n",
      "3 7\n",
      "15 7\n",
      "5 2\n",
      "260\n"
     ]
    }
   ],
   "source": [
    "# 2563\n",
    "paper = [[0 for _ in range(101)] for __ in range(101)]\n",
    "num = int(input())\n",
    "\n",
    "for _ in range(num):\n",
    "    x,y = list(map(int,input().split()))\n",
    "    for row in range(x,x+10):\n",
    "        for col in range(y,y+10):\n",
    "            paper[row][col] = 1\n",
    "\n",
    "cnt = 0\n",
    "for i in paper:\n",
    "    cnt += i.count(1)\n",
    "print(cnt)"
   ]
  }
 ],
 "metadata": {
  "kernelspec": {
   "display_name": "Python 3 (ipykernel)",
   "language": "python",
   "name": "python3"
  },
  "language_info": {
   "codemirror_mode": {
    "name": "ipython",
    "version": 3
   },
   "file_extension": ".py",
   "mimetype": "text/x-python",
   "name": "python",
   "nbconvert_exporter": "python",
   "pygments_lexer": "ipython3",
   "version": "3.10.9"
  }
 },
 "nbformat": 4,
 "nbformat_minor": 5
}
