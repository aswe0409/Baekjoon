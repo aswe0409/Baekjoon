{
 "cells": [
  {
   "cell_type": "code",
   "execution_count": 14,
   "id": "499f058e",
   "metadata": {},
   "outputs": [
    {
     "name": "stdout",
     "output_type": "stream",
     "text": [
      "2100000000 9 10\n"
     ]
    },
    {
     "ename": "KeyboardInterrupt",
     "evalue": "",
     "output_type": "error",
     "traceback": [
      "\u001b[1;31m---------------------------------------------------------------------------\u001b[0m",
      "\u001b[1;31mKeyboardInterrupt\u001b[0m                         Traceback (most recent call last)",
      "Input \u001b[1;32mIn [14]\u001b[0m, in \u001b[0;36m<cell line: 6>\u001b[1;34m()\u001b[0m\n\u001b[0;32m     10\u001b[0m     \u001b[38;5;28mprint\u001b[39m(i)\n\u001b[0;32m     11\u001b[0m     \u001b[38;5;28;01mbreak\u001b[39;00m\n\u001b[1;32m---> 12\u001b[0m i\u001b[38;5;241m+\u001b[39m\u001b[38;5;241m=\u001b[39m\u001b[38;5;241m1\u001b[39m\n",
      "\u001b[1;31mKeyboardInterrupt\u001b[0m: "
     ]
    }
   ],
   "source": [
    "#1712\n",
    "# a = 고정비 , b = 가변비(인건비, 재료), c= 노트북 가격\n",
    "a,b,c = map(int,input().split())\n",
    "i = int(0)\n",
    "while True:\n",
    "    if b >= c:\n",
    "        print(int(-1))\n",
    "        break\n",
    "    else a+(b*i) < c*i:\n",
    "        print(i)\n",
    "        break\n",
    "    i+=1 "
   ]
  },
  {
   "cell_type": "code",
   "execution_count": 16,
   "id": "e12e4b9f",
   "metadata": {},
   "outputs": [
    {
     "name": "stdout",
     "output_type": "stream",
     "text": [
      "2100000000 9 10\n",
      "2100000001\n"
     ]
    }
   ],
   "source": [
    "#1712\n",
    "# a = 고정비 , b = 가변비(인건비, 재료), c= 노트북 가격\n",
    "a,b,c = map(int,input().split())\n",
    "\n",
    "if b>=c:\n",
    "    print(int(-1))\n",
    "    \n",
    "else:\n",
    "    print(int(a/(c-b)+1))"
   ]
  },
  {
   "cell_type": "code",
   "execution_count": 18,
   "id": "d0c68eb6",
   "metadata": {},
   "outputs": [
    {
     "name": "stdout",
     "output_type": "stream",
     "text": [
      "13\n",
      "3\n"
     ]
    }
   ],
   "source": [
    "#2292\n",
    "n = int(input())\n",
    "cnt = int(1)\n",
    "room = int(1)\n",
    "i = int(6)\n",
    "\n",
    "while n > room:\n",
    "    cnt +=1\n",
    "    room += i\n",
    "    i += 6\n",
    "print(cnt)\n",
    "    "
   ]
  },
  {
   "cell_type": "code",
   "execution_count": 7,
   "id": "87f07714",
   "metadata": {},
   "outputs": [
    {
     "name": "stdout",
     "output_type": "stream",
     "text": [
      "9\n",
      "4\n",
      "3\n"
     ]
    }
   ],
   "source": [
    "#1193\n",
    "num = int(input())\n",
    "\n",
    "line=1\n",
    "while num>line:\n",
    "    num-=line\n",
    "    line+=1\n",
    "print(line)\n",
    "print(num)"
   ]
  },
  {
   "cell_type": "code",
   "execution_count": 34,
   "id": "d0bc9a72",
   "metadata": {},
   "outputs": [
    {
     "name": "stdout",
     "output_type": "stream",
     "text": [
      "1\n",
      "6 12 72\n",
      "612\n"
     ]
    }
   ],
   "source": [
    "#10250\n",
    "t = int(input())\n",
    "#h = 층수, w=  각 층의 방수 n= 몇 번째 손님인지\n",
    "for i in range(t):\n",
    "    h,w,n = map(int,input().split())\n",
    "    top = n % h\n",
    "    room = n // h +1\n",
    "    \n",
    "    if top == 0:\n",
    "        top = h\n",
    "        print(f\"{top * 100 + room-1}\")\n",
    "    else:\n",
    "        print(f\"{top * 100 + room}\")\n"
   ]
  },
  {
   "cell_type": "code",
   "execution_count": 62,
   "id": "3fbdee84",
   "metadata": {},
   "outputs": [
    {
     "name": "stdout",
     "output_type": "stream",
     "text": [
      "100 99 1000000000\n",
      "999999901\n"
     ]
    }
   ],
   "source": [
    "#2869\n",
    "\n",
    "a,b,v = map(int,input().split())\n",
    "\n",
    "if ((v-b)%(a-b) == 0):\n",
    "    print((v-b)//(a-b))\n",
    "\n",
    "else:\n",
    "    print((v-b)//(a-b)+1)"
   ]
  },
  {
   "cell_type": "code",
   "execution_count": 89,
   "id": "40dd1426",
   "metadata": {},
   "outputs": [
    {
     "name": "stdout",
     "output_type": "stream",
     "text": [
      "1\n",
      "-1\n"
     ]
    }
   ],
   "source": [
    "#2839\n",
    "suger = int(input())\n",
    "cnt = int(0)\n",
    "\n",
    "while True:\n",
    "    if suger == 1 or suger == 2:\n",
    "        print(-1)\n",
    "        break\n",
    "    if(suger % 5 == 0):\n",
    "        cnt = cnt + suger // 5\n",
    "        print(cnt)\n",
    "        break\n",
    "    suger -= 3\n",
    "    cnt += 1"
   ]
  }
 ],
 "metadata": {
  "kernelspec": {
   "display_name": "Python 3 (ipykernel)",
   "language": "python",
   "name": "python3"
  },
  "language_info": {
   "codemirror_mode": {
    "name": "ipython",
    "version": 3
   },
   "file_extension": ".py",
   "mimetype": "text/x-python",
   "name": "python",
   "nbconvert_exporter": "python",
   "pygments_lexer": "ipython3",
   "version": "3.9.12"
  }
 },
 "nbformat": 4,
 "nbformat_minor": 5
}
