{
 "cells": [
  {
   "cell_type": "code",
   "execution_count": 5,
   "id": "205e72fc",
   "metadata": {
    "scrolled": true
   },
   "outputs": [
    {
     "name": "stdout",
     "output_type": "stream",
     "text": [
      "3\n",
      "124\n",
      "4 2 0 4\n",
      "25\n",
      "1 0 0 0\n",
      "194\n",
      "7 1 1 4\n"
     ]
    }
   ],
   "source": [
    "#2720\n",
    "t = int(input())\n",
    "\n",
    "for _ in range(t):\n",
    "    money = int(input())\n",
    "    q = money // 25\n",
    "    money = money % 25\n",
    "\n",
    "    d = money // 10\n",
    "    money = money % 10\n",
    "\n",
    "    n = money // 5\n",
    "    money = money % 5\n",
    "        \n",
    "    p = money // 1\n",
    "    print(f\"{q} {d} {n} {p}\")"
   ]
  },
  {
   "cell_type": "code",
   "execution_count": 12,
   "id": "fe6f78a6",
   "metadata": {},
   "outputs": [
    {
     "name": "stdout",
     "output_type": "stream",
     "text": [
      "5\n",
      "1089\n"
     ]
    }
   ],
   "source": [
    "#2903\n",
    "num = int(input())\n",
    "print(2**num * 2**num + 2**num + 2**num + 1)"
   ]
  }
 ],
 "metadata": {
  "kernelspec": {
   "display_name": "Python 3 (ipykernel)",
   "language": "python",
   "name": "python3"
  },
  "language_info": {
   "codemirror_mode": {
    "name": "ipython",
    "version": 3
   },
   "file_extension": ".py",
   "mimetype": "text/x-python",
   "name": "python",
   "nbconvert_exporter": "python",
   "pygments_lexer": "ipython3",
   "version": "3.10.9"
  }
 },
 "nbformat": 4,
 "nbformat_minor": 5
}
