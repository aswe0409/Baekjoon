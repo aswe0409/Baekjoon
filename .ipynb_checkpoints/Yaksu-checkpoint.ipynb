{
 "cells": [
  {
   "cell_type": "code",
   "execution_count": null,
   "id": "277fce85",
   "metadata": {},
   "outputs": [],
   "source": [
    "#2501\n",
    "p, q = list(map(int,input().split()))\n",
    "\n",
    "yaksu = []\n",
    "\n",
    "for i in range(1, p+1):\n",
    "    "
   ]
  }
 ],
 "metadata": {
  "kernelspec": {
   "display_name": "Python 3 (ipykernel)",
   "language": "python",
   "name": "python3"
  },
  "language_info": {
   "codemirror_mode": {
    "name": "ipython",
    "version": 3
   },
   "file_extension": ".py",
   "mimetype": "text/x-python",
   "name": "python",
   "nbconvert_exporter": "python",
   "pygments_lexer": "ipython3",
   "version": "3.10.9"
  }
 },
 "nbformat": 4,
 "nbformat_minor": 5
}
