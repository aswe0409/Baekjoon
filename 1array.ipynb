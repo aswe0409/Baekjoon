{
 "cells": [
  {
   "cell_type": "markdown",
   "id": "e1fd3596",
   "metadata": {},
   "source": [
    "# 1차원 배열"
   ]
  },
  {
   "cell_type": "code",
   "execution_count": 2,
   "id": "25d8aa00",
   "metadata": {},
   "outputs": [
    {
     "name": "stdout",
     "output_type": "stream",
     "text": [
      "11\n",
      "1 4 1 2 4 2 4 2 3 4 4\n",
      "2\n",
      "3\n"
     ]
    }
   ],
   "source": [
    "# 10807\n",
    "n = int(input())\n",
    "arr  = list(map(int,input().split()))\n",
    "aim = int(input())\n",
    "cnt = arr.count(aim)\n",
    "\n",
    "print(cnt)"
   ]
  },
  {
   "cell_type": "code",
   "execution_count": 9,
   "id": "1357afd9",
   "metadata": {},
   "outputs": [
    {
     "name": "stdout",
     "output_type": "stream",
     "text": [
      "10 5\n",
      "1 10 4 9 2 3 8 5 7 6\n",
      "1 4 2 3 "
     ]
    }
   ],
   "source": [
    "# 10871\n",
    "n,x = map(int, input().split())\n",
    "arr = list(map(int,input().split()))\n",
    "\n",
    "for i in arr:\n",
    "    if (i < x):\n",
    "        print(i, end=' ') \n",
    "    "
   ]
  },
  {
   "cell_type": "code",
   "execution_count": 10,
   "id": "e8080748",
   "metadata": {},
   "outputs": [
    {
     "name": "stdout",
     "output_type": "stream",
     "text": [
      "5\n",
      "20 10 35 30 7\n",
      "7 35\n"
     ]
    }
   ],
   "source": [
    "#10818\n",
    "num = int(input())\n",
    "arr = list(map(int, input().split()))\n",
    "m = max(arr)\n",
    "n = min(arr)\n",
    "print(n,m)"
   ]
  },
  {
   "cell_type": "code",
   "execution_count": 15,
   "id": "a82e131a",
   "metadata": {},
   "outputs": [
    {
     "name": "stdout",
     "output_type": "stream",
     "text": [
      "3\n",
      "29\n",
      "38\n",
      "12\n",
      "57\n",
      "74\n",
      "40\n",
      "85\n",
      "61\n",
      "85\n",
      "8\n"
     ]
    }
   ],
   "source": [
    "# 2562\n",
    "arr = []\n",
    "for i in range(9):\n",
    "    arr.append(int(input()))\n",
    "\n",
    "m = max(arr)\n",
    "print(m)\n",
    "for i in range(len(arr)):\n",
    "    if(arr[i] == m):\n",
    "        print(i+1)"
   ]
  },
  {
   "cell_type": "code",
   "execution_count": 17,
   "id": "a1d525a0",
   "metadata": {},
   "outputs": [
    {
     "name": "stdout",
     "output_type": "stream",
     "text": [
      "3\n",
      "1\n",
      "4\n",
      "5\n",
      "7\n",
      "9\n",
      "6\n",
      "10\n",
      "11\n",
      "12\n",
      "13\n",
      "14\n",
      "15\n",
      "16\n",
      "17\n",
      "18\n",
      "19\n",
      "20\n",
      "21\n",
      "22\n",
      "23\n",
      "24\n",
      "25\n",
      "26\n",
      "28\n",
      "27\n",
      "29\n",
      "30\n",
      "2\n",
      "8\n"
     ]
    }
   ],
   "source": [
    "# 5597\n",
    "apply_arr = []\n",
    "a = int(0)\n",
    "\n",
    "for i in range(28):\n",
    "    apply_arr.append(int(input()))\n",
    "\n",
    "apply_arr.sort()\n",
    "for i in range(1,31):\n",
    "    if(i != apply_arr[a]):\n",
    "        print(i)\n",
    "    else:\n",
    "        a+=1"
   ]
  },
  {
   "cell_type": "code",
   "execution_count": 23,
   "id": "72a8c680",
   "metadata": {},
   "outputs": [
    {
     "ename": "KeyboardInterrupt",
     "evalue": "Interrupted by user",
     "output_type": "error",
     "traceback": [
      "\u001b[1;31m---------------------------------------------------------------------------\u001b[0m",
      "\u001b[1;31mKeyboardInterrupt\u001b[0m                         Traceback (most recent call last)",
      "Input \u001b[1;32mIn [23]\u001b[0m, in \u001b[0;36m<cell line: 6>\u001b[1;34m()\u001b[0m\n\u001b[0;32m      4\u001b[0m     total_arr\u001b[38;5;241m.\u001b[39mappend(i)\n\u001b[0;32m      6\u001b[0m \u001b[38;5;28;01mfor\u001b[39;00m i \u001b[38;5;129;01min\u001b[39;00m \u001b[38;5;28mrange\u001b[39m(\u001b[38;5;241m28\u001b[39m):\n\u001b[1;32m----> 7\u001b[0m     num \u001b[38;5;241m=\u001b[39m \u001b[38;5;28mint\u001b[39m(\u001b[38;5;28;43minput\u001b[39;49m\u001b[43m(\u001b[49m\u001b[43m)\u001b[49m)\n\u001b[0;32m      8\u001b[0m     total_arr\u001b[38;5;241m.\u001b[39mremove(num)\n\u001b[0;32m      9\u001b[0m \u001b[38;5;28mprint\u001b[39m(\u001b[38;5;28mmin\u001b[39m(total_arr))\n",
      "File \u001b[1;32m~\\Anaconda3\\lib\\site-packages\\ipykernel\\kernelbase.py:1075\u001b[0m, in \u001b[0;36mKernel.raw_input\u001b[1;34m(self, prompt)\u001b[0m\n\u001b[0;32m   1071\u001b[0m \u001b[38;5;28;01mif\u001b[39;00m \u001b[38;5;129;01mnot\u001b[39;00m \u001b[38;5;28mself\u001b[39m\u001b[38;5;241m.\u001b[39m_allow_stdin:\n\u001b[0;32m   1072\u001b[0m     \u001b[38;5;28;01mraise\u001b[39;00m StdinNotImplementedError(\n\u001b[0;32m   1073\u001b[0m         \u001b[38;5;124m\"\u001b[39m\u001b[38;5;124mraw_input was called, but this frontend does not support input requests.\u001b[39m\u001b[38;5;124m\"\u001b[39m\n\u001b[0;32m   1074\u001b[0m     )\n\u001b[1;32m-> 1075\u001b[0m \u001b[38;5;28;01mreturn\u001b[39;00m \u001b[38;5;28;43mself\u001b[39;49m\u001b[38;5;241;43m.\u001b[39;49m\u001b[43m_input_request\u001b[49m\u001b[43m(\u001b[49m\n\u001b[0;32m   1076\u001b[0m \u001b[43m    \u001b[49m\u001b[38;5;28;43mstr\u001b[39;49m\u001b[43m(\u001b[49m\u001b[43mprompt\u001b[49m\u001b[43m)\u001b[49m\u001b[43m,\u001b[49m\n\u001b[0;32m   1077\u001b[0m \u001b[43m    \u001b[49m\u001b[38;5;28;43mself\u001b[39;49m\u001b[38;5;241;43m.\u001b[39;49m\u001b[43m_parent_ident\u001b[49m\u001b[43m[\u001b[49m\u001b[38;5;124;43m\"\u001b[39;49m\u001b[38;5;124;43mshell\u001b[39;49m\u001b[38;5;124;43m\"\u001b[39;49m\u001b[43m]\u001b[49m\u001b[43m,\u001b[49m\n\u001b[0;32m   1078\u001b[0m \u001b[43m    \u001b[49m\u001b[38;5;28;43mself\u001b[39;49m\u001b[38;5;241;43m.\u001b[39;49m\u001b[43mget_parent\u001b[49m\u001b[43m(\u001b[49m\u001b[38;5;124;43m\"\u001b[39;49m\u001b[38;5;124;43mshell\u001b[39;49m\u001b[38;5;124;43m\"\u001b[39;49m\u001b[43m)\u001b[49m\u001b[43m,\u001b[49m\n\u001b[0;32m   1079\u001b[0m \u001b[43m    \u001b[49m\u001b[43mpassword\u001b[49m\u001b[38;5;241;43m=\u001b[39;49m\u001b[38;5;28;43;01mFalse\u001b[39;49;00m\u001b[43m,\u001b[49m\n\u001b[0;32m   1080\u001b[0m \u001b[43m\u001b[49m\u001b[43m)\u001b[49m\n",
      "File \u001b[1;32m~\\Anaconda3\\lib\\site-packages\\ipykernel\\kernelbase.py:1120\u001b[0m, in \u001b[0;36mKernel._input_request\u001b[1;34m(self, prompt, ident, parent, password)\u001b[0m\n\u001b[0;32m   1117\u001b[0m             \u001b[38;5;28;01mbreak\u001b[39;00m\n\u001b[0;32m   1118\u001b[0m \u001b[38;5;28;01mexcept\u001b[39;00m \u001b[38;5;167;01mKeyboardInterrupt\u001b[39;00m:\n\u001b[0;32m   1119\u001b[0m     \u001b[38;5;66;03m# re-raise KeyboardInterrupt, to truncate traceback\u001b[39;00m\n\u001b[1;32m-> 1120\u001b[0m     \u001b[38;5;28;01mraise\u001b[39;00m \u001b[38;5;167;01mKeyboardInterrupt\u001b[39;00m(\u001b[38;5;124m\"\u001b[39m\u001b[38;5;124mInterrupted by user\u001b[39m\u001b[38;5;124m\"\u001b[39m) \u001b[38;5;28;01mfrom\u001b[39;00m \u001b[38;5;28mNone\u001b[39m\n\u001b[0;32m   1121\u001b[0m \u001b[38;5;28;01mexcept\u001b[39;00m \u001b[38;5;167;01mException\u001b[39;00m:\n\u001b[0;32m   1122\u001b[0m     \u001b[38;5;28mself\u001b[39m\u001b[38;5;241m.\u001b[39mlog\u001b[38;5;241m.\u001b[39mwarning(\u001b[38;5;124m\"\u001b[39m\u001b[38;5;124mInvalid Message:\u001b[39m\u001b[38;5;124m\"\u001b[39m, exc_info\u001b[38;5;241m=\u001b[39m\u001b[38;5;28;01mTrue\u001b[39;00m)\n",
      "\u001b[1;31mKeyboardInterrupt\u001b[0m: Interrupted by user"
     ]
    }
   ],
   "source": [
    "#5597\n",
    "total_arr = []\n",
    "for i in range(1,31):\n",
    "    total_arr.append(i)\n",
    "    \n",
    "for i in range(28):\n",
    "    num = int(input())\n",
    "    total_arr.remove(num)\n",
    "print(min(total_arr))\n",
    "print(max(total_arr))"
   ]
  },
  {
   "cell_type": "code",
   "execution_count": 9,
   "id": "cbef1b1d",
   "metadata": {},
   "outputs": [
    {
     "name": "stdout",
     "output_type": "stream",
     "text": [
      "1\n",
      "2\n",
      "3\n",
      "4\n",
      "5\n",
      "6\n",
      "7\n",
      "8\n",
      "9\n",
      "10\n",
      "10\n"
     ]
    }
   ],
   "source": [
    "# 3052\n",
    "numarr = []\n",
    "divarr = []\n",
    "for i in range(10):\n",
    "    numarr.append(int(input()))\n",
    "    divarr.append(numarr[i] % 42)\n",
    "    \n",
    "divarr = set(divarr)\n",
    "print(len(divarr))"
   ]
  },
  {
   "cell_type": "code",
   "execution_count": 3,
   "id": "d4709aa1",
   "metadata": {},
   "outputs": [
    {
     "name": "stdout",
     "output_type": "stream",
     "text": [
      "3\n",
      "40 60 80\n",
      "75.00\n"
     ]
    }
   ],
   "source": [
    "#1546\n",
    "n = int(input())\n",
    "score = list(map(int,input().split()))\n",
    "\n",
    "m = max(score)\n",
    "newscore = []\n",
    "for i in score:\n",
    "    newscore.append(i/m*100)\n",
    "\n",
    "avg = sum(newscore) / len(newscore)\n",
    "print(f\"{avg:.2f}\")"
   ]
  },
  {
   "cell_type": "code",
   "execution_count": 11,
   "id": "f35c658f",
   "metadata": {},
   "outputs": [
    {
     "name": "stdout",
     "output_type": "stream",
     "text": [
      "1\n",
      "OOXXOXXOOO\n",
      "10\n"
     ]
    }
   ],
   "source": [
    "#8958\n",
    "n = int(input())\n",
    "for i in range(n):\n",
    "    summ = 0\n",
    "    ret = input()\n",
    "    c= 1\n",
    "    for j in range(len(ret)):\n",
    "        if ret[j] == 'O':\n",
    "            summ = summ + c\n",
    "            c = c+1\n",
    "        else:\n",
    "            c = 1\n",
    "    print(summ)\n",
    "        \n",
    "    "
   ]
  },
  {
   "cell_type": "code",
   "execution_count": 22,
   "id": "0e91203a",
   "metadata": {},
   "outputs": [
    {
     "name": "stdout",
     "output_type": "stream",
     "text": [
      "5\n",
      "5 50 50 70 80 100\n",
      "2\n",
      "40.000%\n",
      "7 100 95 90 80 70 60 50\n",
      "4\n",
      "57.143%\n",
      "3 70 90 80\n",
      "1\n",
      "33.333%\n",
      "3 70 90 81\n",
      "2\n",
      "66.667%\n",
      "9 100 99 98 97 96 95 94 93 91\n",
      "5\n",
      "55.556%\n"
     ]
    }
   ],
   "source": [
    "#4344\n",
    "n = int(input())\n",
    "for i in range(n):\n",
    "    arr = list(map(int,input().split()))\n",
    "    summ = 0\n",
    "    cnt = 0\n",
    "    for j in range(len(arr)-1):\n",
    "        summ = summ + arr[j+1]\n",
    "    avg = summ / arr[0]\n",
    "    \n",
    "    for j in range(len(arr)-1):\n",
    "        if avg < arr[j+1]:\n",
    "            cnt = cnt + 1\n",
    "    per = cnt / arr[0] * 100\n",
    "    print(f\"{per:.3f}%\")\n",
    "            "
   ]
  }
 ],
 "metadata": {
  "kernelspec": {
   "display_name": "Python 3 (ipykernel)",
   "language": "python",
   "name": "python3"
  },
  "language_info": {
   "codemirror_mode": {
    "name": "ipython",
    "version": 3
   },
   "file_extension": ".py",
   "mimetype": "text/x-python",
   "name": "python",
   "nbconvert_exporter": "python",
   "pygments_lexer": "ipython3",
   "version": "3.9.12"
  }
 },
 "nbformat": 4,
 "nbformat_minor": 5
}
